{
 "cells": [
  {
   "cell_type": "code",
   "execution_count": 4,
   "id": "539a254a",
   "metadata": {},
   "outputs": [
    {
     "name": "stderr",
     "output_type": "stream",
     "text": [
      "Matplotlib is building the font cache; this may take a moment.\n"
     ]
    }
   ],
   "source": [
    "import pandas as pd\n",
    "import numpy as np\n",
    "from wordcloud import WordCloud, STOPWORDS\n",
    "import matplotlib.pyplot as plt\n",
    "import folium\n",
    "import requests\n",
    "import seaborn as sns\n",
    "from sklearn.model_selection import train_test_split\n",
    "from sklearn.preprocessing import LabelEncoder, StandardScaler\n",
    "from sklearn.preprocessing import OneHotEncoder\n",
    "from sklearn.compose import ColumnTransformer\n",
    "from sklearn.pipeline import Pipeline\n",
    "from sklearn.ensemble import RandomForestClassifier\n",
    "from sklearn.ensemble import RandomForestRegressor\n",
    "from sklearn.linear_model import LinearRegression\n",
    "from sklearn.metrics import mean_squared_error\n",
    "from sklearn.metrics import accuracy_score"
   ]
  },
  {
   "cell_type": "code",
   "execution_count": 2,
   "id": "f5d3ab01",
   "metadata": {},
   "outputs": [
    {
     "name": "stdout",
     "output_type": "stream",
     "text": [
      "C:\\Users\\Akwo\\anaconda3\\python.exe\n"
     ]
    }
   ],
   "source": [
    "# Load the dataset into a pandas dataframe\n",
    "df = pd.read_csv('/african_conflicts.csv', encoding='ISO-8859-1')"
   ]
  },
  {
   "cell_type": "code",
   "execution_count": 3,
   "id": "aff67513",
   "metadata": {},
   "outputs": [
    {
     "ename": "SyntaxError",
     "evalue": "unexpected character after line continuation character (1929608216.py, line 1)",
     "output_type": "error",
     "traceback": [
      "\u001b[1;36m  File \u001b[1;32m\"C:\\Users\\Akwo\\AppData\\Local\\Temp\\ipykernel_1860\\1929608216.py\"\u001b[1;36m, line \u001b[1;32m1\u001b[0m\n\u001b[1;33m    \\anaconda3\\python.exe -m pip install wordcloud\u001b[0m\n\u001b[1;37m     ^\u001b[0m\n\u001b[1;31mSyntaxError\u001b[0m\u001b[1;31m:\u001b[0m unexpected character after line continuation character\n"
     ]
    }
   ],
   "source": [
    "# Print the shape of the dataframe\n",
    "print(\"Shape of the dataframe: \", df.shape)"
   ]
  },
  {
   "cell_type": "code",
   "execution_count": null,
   "id": "d184e1e8",
   "metadata": {},
   "outputs": [],
   "source": [
    "# Print the data types of the columns\n",
    "print(\"Data types of the columns: \")\n",
    "print(df.dtypes)"
   ]
  },
  {
   "cell_type": "code",
   "execution_count": null,
   "id": "3657511e",
   "metadata": {},
   "outputs": [],
   "source": [
    "# Print the first 5 rows of the dataframe\n",
    "print(\"First 5 rows of the dataframe: \")\n",
    "print(df.head())"
   ]
  },
  {
   "cell_type": "code",
   "execution_count": null,
   "id": "32f05b7b",
   "metadata": {},
   "outputs": [],
   "source": [
    "# Print summary statistics for the numeric columns\n",
    "print(\"Summary statistics for numeric columns: \")\n",
    "print(df.describe())"
   ]
  },
  {
   "cell_type": "code",
   "execution_count": null,
   "id": "d8abf01a",
   "metadata": {},
   "outputs": [],
   "source": [
    "# Check for missing values\n",
    "print(df.isnull().sum())"
   ]
  },
  {
   "cell_type": "code",
   "execution_count": null,
   "id": "3c36ae66",
   "metadata": {},
   "outputs": [],
   "source": [
    "# Convert date columns to datetime with format 'dd/mm/yyyy'\n",
    "df['EVENT_DATE'] = pd.to_datetime(df['EVENT_DATE'], format='%d/%m/%Y')"
   ]
  },
  {
   "cell_type": "code",
   "execution_count": null,
   "id": "ec36e54f",
   "metadata": {},
   "outputs": [],
   "source": [
    "# Check for missing values\n",
    "print(df.isnull().sum())"
   ]
  },
  {
   "cell_type": "code",
   "execution_count": null,
   "id": "40406973",
   "metadata": {},
   "outputs": [],
   "source": [
    "# Replace inconsistent values in the \"GEO_PRECISION\" column\n",
    "df['GEO_PRECISION'] = df['GEO_PRECISION'].replace({-9: np.nan})"
   ]
  },
  {
   "cell_type": "code",
   "execution_count": null,
   "id": "1f79574e",
   "metadata": {},
   "outputs": [],
   "source": [
    "text = \" \".join(df['NOTES'].dropna()) # Concatenate all the text data from your dataset into a single string"
   ]
  },
  {
   "cell_type": "code",
   "execution_count": null,
   "id": "1b0dab6a",
   "metadata": {},
   "outputs": [],
   "source": [
    "wordcloud = WordCloud(width = 800, height = 800,\n",
    "                background_color ='white',\n",
    "                stopwords = set(STOPWORDS),\n",
    "                min_font_size = 10)"
   ]
  },
  {
   "cell_type": "code",
   "execution_count": null,
   "id": "e87960cf",
   "metadata": {},
   "outputs": [],
   "source": [
    "wordcloud.generate(text)"
   ]
  },
  {
   "cell_type": "code",
   "execution_count": null,
   "id": "7c966780",
   "metadata": {},
   "outputs": [],
   "source": [
    "plt.figure(figsize = (8, 8), facecolor = None)\n",
    "plt.imshow(wordcloud)\n",
    "plt.axis(\"off\")\n",
    "plt.tight_layout(pad = 0)\n",
    "\n",
    "plt.show()"
   ]
  },
  {
   "cell_type": "code",
   "execution_count": null,
   "id": "bf7fee30",
   "metadata": {},
   "outputs": [],
   "source": [
    "# convert the 'EVENT_DATE' column to datetime format\n",
    "df['EVENT_DATE'] = pd.to_datetime(df['EVENT_DATE'])"
   ]
  },
  {
   "cell_type": "code",
   "execution_count": null,
   "id": "35c11320",
   "metadata": {},
   "outputs": [],
   "source": [
    "# create a new column for the year\n",
    "df['YEAR'] = df['EVENT_DATE'].dt.year"
   ]
  },
  {
   "cell_type": "code",
   "execution_count": null,
   "id": "e8ee52eb",
   "metadata": {},
   "outputs": [],
   "source": [
    "# group the data by year and count the number of events in each year\n",
    "attacks_by_year = df.groupby('YEAR').size()"
   ]
  },
  {
   "cell_type": "code",
   "execution_count": null,
   "id": "2cf5e099",
   "metadata": {},
   "outputs": [],
   "source": [
    "# create a line plot of the frequency of attacks over time\n",
    "plt.plot(attacks_by_year.index, attacks_by_year.values)\n",
    "plt.xlabel('Year')\n",
    "plt.ylabel('Number of Attacks')\n",
    "plt.title('Frequency of Attacks in Africa, 1997-2017')\n",
    "plt.show()"
   ]
  },
  {
   "cell_type": "code",
   "execution_count": null,
   "id": "34661a77",
   "metadata": {},
   "outputs": [],
   "source": [
    "# Set figure size\n",
    "plt.figure(figsize=(12,6))\n",
    "\n",
    "# Create plot\n",
    "ax = df.groupby(['YEAR'])['EVENT_ID_CNTY'].count().plot()\n",
    "\n",
    "# Set x-axis label\n",
    "ax.set_xlabel(\"Year\")\n",
    "\n",
    "# Set y-axis label\n",
    "ax.set_ylabel(\"Number of Conflicts\")\n",
    "\n",
    "# Set title\n",
    "ax.set_title(\"Frequency of Conflicts in Africa (1997-2017)\")\n",
    "\n",
    "# Show plot\n",
    "plt.show()"
   ]
  },
  {
   "cell_type": "code",
   "execution_count": null,
   "id": "bae7f545",
   "metadata": {},
   "outputs": [],
   "source": [
    "corr = df['FATALITIES'].corr(df['YEAR'])\n",
    "\n",
    "print(\"Pearson's correlation coefficient: \", corr)"
   ]
  },
  {
   "cell_type": "code",
   "execution_count": null,
   "id": "642fd19d",
   "metadata": {},
   "outputs": [],
   "source": [
    "plt.scatter(df['YEAR'], df['FATALITIES'])\n",
    "plt.xlabel('Year')\n",
    "plt.ylabel('Fatalities')\n",
    "plt.show()"
   ]
  },
  {
   "cell_type": "code",
   "execution_count": null,
   "id": "f8929e01",
   "metadata": {},
   "outputs": [],
   "source": [
    "# Filter the dataset to only include events in 1997 and 2001\n",
    "events_97_01 = df[(df.YEAR == 1997) | (df.YEAR == 2001)]\n",
    "\n",
    "# Display the notes column for the filtered dataset\n",
    "print(events_97_01.NOTES)"
   ]
  },
  {
   "cell_type": "code",
   "execution_count": null,
   "id": "5d1b39ba",
   "metadata": {},
   "outputs": [],
   "source": [
    "# Get the count of conflicts per country\n",
    "country_counts = df['COUNTRY'].value_counts()\n",
    "\n",
    "# Plot the top 10 countries with the highest number of conflicts\n",
    "top_10_countries = country_counts.head(10)\n",
    "plt.figure(figsize=(10,6))\n",
    "plt.bar(top_10_countries.index, top_10_countries.values)\n",
    "plt.title('Top 10 Countries with the Highest Number of Conflicts')\n",
    "plt.xlabel('Country')\n",
    "plt.ylabel('Number of Conflicts')\n",
    "plt.show()"
   ]
  },
  {
   "cell_type": "code",
   "execution_count": null,
   "id": "f98a6de2",
   "metadata": {},
   "outputs": [],
   "source": [
    "# Convert the \"EVENT_DATE\" column to datetime format\n",
    "df['EVENT_DATE'] = pd.to_datetime(df['EVENT_DATE'], format='%d/%m/%Y')\n",
    "\n",
    "# Group the dataset by year and count the number of conflicts per year\n",
    "conflict_count = df.groupby(df['EVENT_DATE'].dt.year)['EVENT_ID_CNTY'].count()\n",
    "\n",
    "# Plot the trend of conflicts over the years\n",
    "plt.figure(figsize=(10,6))\n",
    "plt.plot(conflict_count.index, conflict_count.values)\n",
    "plt.title('Trend of Conflicts over the Years')\n",
    "plt.xlabel('Year')\n",
    "plt.ylabel('Number of Conflicts')\n",
    "plt.show()"
   ]
  },
  {
   "cell_type": "code",
   "execution_count": null,
   "id": "edcf1378",
   "metadata": {},
   "outputs": [],
   "source": [
    "# Extract rows where either ACTOR1 or ACTOR2 contains the word \"Somalia\"\n",
    "somalia_conflicts = df[(df['ACTOR1'].str.contains(\"Somalia\")) | (df['ACTOR2'].str.contains(\"Somalia\"))]"
   ]
  },
  {
   "cell_type": "code",
   "execution_count": null,
   "id": "9527d942",
   "metadata": {},
   "outputs": [],
   "source": [
    "# Filter the dataframe to only include Riots/Protests\n",
    "riots_df = df[df['EVENT_TYPE'] == 'Riots/Protests'].copy()\n",
    "\n",
    "# Group the data by year and count the number of events\n",
    "riots_year_count = riots_df.groupby(riots_df['YEAR']).size().reset_index(name='counts')\n",
    "\n",
    "# Plot the line graph\n",
    "plt.plot(riots_year_count['YEAR'], riots_year_count['counts'])\n",
    "plt.title('Frequency of Riots/Protests by Year')\n",
    "plt.xlabel('Year')\n",
    "plt.ylabel('Number of Riots/Protests')\n",
    "plt.show()"
   ]
  },
  {
   "cell_type": "code",
   "execution_count": null,
   "id": "b2861777",
   "metadata": {},
   "outputs": [],
   "source": [
    "actor_df = df['ACTOR1'].value_counts().reset_index()\n",
    "actor_df.columns = ['Actor', 'Frequency']\n",
    "actor_df = actor_df.head(10)"
   ]
  },
  {
   "cell_type": "code",
   "execution_count": null,
   "id": "21bcca1b",
   "metadata": {},
   "outputs": [],
   "source": [
    "plt.barh(actor_df['Actor'], actor_df['Frequency'], color='cornflowerblue')\n",
    "plt.xlabel('Frequency')\n",
    "plt.ylabel('Actor')\n",
    "plt.title('Top 10 Most Active Actors in African Conflicts')\n",
    "plt.tight_layout()\n",
    "plt.show()"
   ]
  },
  {
   "cell_type": "code",
   "execution_count": null,
   "id": "ec4b7cb9",
   "metadata": {},
   "outputs": [],
   "source": [
    "# Get the top 10 most active actors\n",
    "top_actors = df['ACTOR1'].value_counts().head(10)\n",
    "\n",
    "# Plot the bar chart\n",
    "plt.figure(figsize=(10, 6))\n",
    "plt.bar(top_actors.index, top_actors.values, color='purple')\n",
    "plt.xticks(rotation=45, ha='right')\n",
    "plt.xlabel('Actor')\n",
    "plt.ylabel('Number of Conflicts')\n",
    "plt.title('Top 10 Most Active Actors in Conflicts')\n",
    "plt.show()"
   ]
  },
  {
   "cell_type": "code",
   "execution_count": null,
   "id": "01e2933c",
   "metadata": {},
   "outputs": [],
   "source": [
    "import matplotlib.pyplot as plt\n",
    "\n",
    "fatalities_df = df[['YEAR', 'FATALITIES']].groupby('YEAR').sum().reset_index()\n",
    "\n",
    "plt.plot(fatalities_df['YEAR'], fatalities_df['FATALITIES'])\n",
    "plt.xlabel('Year')\n",
    "plt.ylabel('Total Fatalities')\n",
    "plt.title('Trends in Fatalities')\n",
    "plt.show()"
   ]
  },
  {
   "cell_type": "code",
   "execution_count": null,
   "id": "7be201ae",
   "metadata": {},
   "outputs": [],
   "source": [
    "Geographic distribution of conflicts: A heat map or a choropleth map can be created to show the number of conflicts or the intensity of conflicts in different countries or regions."
   ]
  },
  {
   "cell_type": "code",
   "execution_count": null,
   "id": "e4160b25",
   "metadata": {},
   "outputs": [],
   "source": [
    "conflicts_by_country = df.groupby('COUNTRY').size().reset_index(name='counts')"
   ]
  },
  {
   "cell_type": "code",
   "execution_count": null,
   "id": "b6c33aa5",
   "metadata": {},
   "outputs": [],
   "source": [
    "url = 'https://raw.githubusercontent.com/python-visualization/folium/master/examples/data'\n",
    "response = requests.get(f'{url}/world-countries.json')\n",
    "world_geojson = response.json()\n",
    "\n",
    "m = folium.Map(location=[30, 0], zoom_start=2)\n",
    "folium.GeoJson(\n",
    "    world_geojson,\n",
    "    name='World conflicts',\n",
    "    tooltip=folium.features.GeoJsonTooltip(fields=['name'], labels=False),\n",
    "    style_function=lambda x: {'fillColor': 'red', 'color': 'black', 'weight': 2, 'fillOpacity': 0.5}\n",
    ").add_to(m)\n",
    "\n",
    "m"
   ]
  },
  {
   "cell_type": "code",
   "execution_count": null,
   "id": "c62d40e1",
   "metadata": {},
   "outputs": [],
   "source": [
    "m = folium.Map(location=[0, 0], zoom_start=2)\n",
    "folium.Choropleth(\n",
    "    geo_data=world_geojson,\n",
    "    name='choropleth',\n",
    "    data=conflicts_by_country,\n",
    "    columns=['COUNTRY', 'counts'],\n",
    "    key_on='feature.properties.name',\n",
    "    fill_color='YlOrRd',\n",
    "    fill_opacity=0.7,\n",
    "    line_opacity=0.2,\n",
    "    legend_name='Number of Conflicts',\n",
    ").add_to(m)\n",
    "folium.LayerControl().add_to(m)\n",
    "m"
   ]
  },
  {
   "cell_type": "code",
   "execution_count": null,
   "id": "6ee2f145",
   "metadata": {},
   "outputs": [],
   "source": [
    "Temporal distribution of conflicts: A line graph or a bar graph can be created to show the number of conflicts over time."
   ]
  },
  {
   "cell_type": "code",
   "execution_count": null,
   "id": "73b9cb5d",
   "metadata": {},
   "outputs": [],
   "source": [
    "# Convert the 'EVENT_DATE' column to a pandas datetime format\n",
    "df['EVENT_DATE'] = pd.to_datetime(df['EVENT_DATE'], errors='coerce')\n",
    "\n",
    "# Extract the year from the 'EVENT_DATE' column and create a new 'YEAR' column\n",
    "df['YEAR'] = df['EVENT_DATE'].dt.year\n",
    "\n",
    "# Group the conflicts by year and count the number of conflicts each year\n",
    "conflicts_by_year = df.groupby('YEAR').size().reset_index(name='counts')\n",
    "\n",
    "# Create a line graph of the number of conflicts by year\n",
    "plt.plot(conflicts_by_year['YEAR'], conflicts_by_year['counts'])\n",
    "plt.xlabel('Year')\n",
    "plt.ylabel('Number of Conflicts')\n",
    "plt.title('Temporal Distribution of Conflicts')\n",
    "plt.show()"
   ]
  },
  {
   "cell_type": "code",
   "execution_count": null,
   "id": "39a8ae58",
   "metadata": {},
   "outputs": [],
   "source": [
    "# Calculate counts of each conflict type\n",
    "conflict_counts = df['EVENT_TYPE'].value_counts()\n",
    "\n",
    "# Create a stacked bar chart\n",
    "conflict_counts.plot(kind='bar', stacked=True)\n",
    "\n",
    "# Set plot labels and title\n",
    "plt.xlabel('Conflict Type')\n",
    "plt.ylabel('Number of Conflicts')\n",
    "plt.title('Types of Conflicts')\n",
    "plt.show()"
   ]
  },
  {
   "cell_type": "code",
   "execution_count": null,
   "id": "993a40eb",
   "metadata": {},
   "outputs": [],
   "source": [
    "# Create a pivot table to get the number of fatalities by country and year\n",
    "fatalities_by_country = df.pivot_table(index='COUNTRY', columns='YEAR', values='FATALITIES', aggfunc='sum')\n",
    "\n",
    "# Get the top 20 countries with the most fatalities\n",
    "top_countries = fatalities_by_country.sum(axis=1).nlargest(20)\n",
    "\n",
    "# Filter the pivot table to only include top countries\n",
    "fatalities_by_country = fatalities_by_country.loc[top_countries.index]\n",
    "\n",
    "# Create a scatter plot to show the intensity of conflicts\n",
    "fig, ax = plt.subplots(figsize=(12, 8))\n",
    "ax.scatter(fatalities_by_country.mean(axis=1),  # X-axis: average number of fatalities\n",
    "           fatalities_by_country.std(axis=1),   # Y-axis: standard deviation of fatalities\n",
    "                      s=fatalities_by_country.sum(axis=1) * 0.5,  # Size of bubble: total number of fatalities\n",
    "           alpha=0.5)  # Transparency of bubbles\n",
    "ax.set_xlabel('Average number of fatalities')\n",
    "ax.set_ylabel('Standard deviation of fatalities')\n",
    "ax.set_title('Intensity of conflicts by country')\n",
    "plt.show()\n"
   ]
  },
  {
   "cell_type": "code",
   "execution_count": null,
   "id": "022b856b",
   "metadata": {},
   "outputs": [],
   "source": [
    "The above is a scatter plot with the average number of fatalities on the X-axis, the standard deviation of fatalities on the Y-axis, and the size of the bubble representing the total number of fatalities. The transparency of the bubbles is set to 0.5 to allow overlapping bubbles to be more visible. The top 20 countries with the most fatalities are included in the plot."
   ]
  }
 ],
 "metadata": {
  "kernelspec": {
   "display_name": "Python 3 (ipykernel)",
   "language": "python",
   "name": "python3"
  },
  "language_info": {
   "codemirror_mode": {
    "name": "ipython",
    "version": 3
   },
   "file_extension": ".py",
   "mimetype": "text/x-python",
   "name": "python",
   "nbconvert_exporter": "python",
   "pygments_lexer": "ipython3",
   "version": "3.9.13"
  }
 },
 "nbformat": 4,
 "nbformat_minor": 5
}
